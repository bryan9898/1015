{
 "cells": [
  {
   "cell_type": "code",
   "execution_count": 318,
   "id": "83666bf6",
   "metadata": {},
   "outputs": [],
   "source": [
    "import numpy as np\n",
    "import pandas as pd\n",
    "import matplotlib.pyplot as plt\n",
    "import seaborn as sb\n",
    "sb.set()\n",
    "\n",
    "from ast import literal_eval\n",
    "from math import sqrt"
   ]
  },
  {
   "cell_type": "code",
   "execution_count": 319,
   "id": "75f9daab",
   "metadata": {},
   "outputs": [],
   "source": [
    "steam_data = pd.read_csv(\"dataset/steam_app_data.csv\")\n",
    "steamspy_data = pd.read_csv(\"dataset/steamspy_data.csv\")"
   ]
  },
  {
   "cell_type": "code",
   "execution_count": 320,
   "id": "80479f87",
   "metadata": {},
   "outputs": [
    {
     "name": "stdout",
     "output_type": "stream",
     "text": [
      "<class 'pandas.core.frame.DataFrame'>\n",
      "Int64Index: 29074 entries, 0 to 29232\n",
      "Data columns (total 22 columns):\n",
      " #   Column              Non-Null Count  Dtype  \n",
      "---  ------              --------------  -----  \n",
      " 0   name                29074 non-null  object \n",
      " 1   steam_appid         29074 non-null  int64  \n",
      " 2   controller_support  5998 non-null   object \n",
      " 3   dlc                 4975 non-null   object \n",
      " 4   short_description   29050 non-null  object \n",
      " 5   demos               2138 non-null   object \n",
      " 6   platforms           29074 non-null  object \n",
      " 7   movies              27157 non-null  object \n",
      " 8   achievements        26842 non-null  object \n",
      " 9   release_date        29074 non-null  object \n",
      " 10  is_free             29074 non-null  object \n",
      " 11  genres              29028 non-null  object \n",
      " 12  developer           28960 non-null  object \n",
      " 13  publisher           28878 non-null  object \n",
      " 14  positive            29074 non-null  int64  \n",
      " 15  negative            29074 non-null  int64  \n",
      " 16  owners              29074 non-null  object \n",
      " 17  average_forever     29074 non-null  int64  \n",
      " 18  median_forever      29074 non-null  int64  \n",
      " 19  initialprice        29073 non-null  float64\n",
      " 20  languages           29062 non-null  object \n",
      " 21  tags                29074 non-null  object \n",
      "dtypes: float64(1), int64(5), object(16)\n",
      "memory usage: 5.1+ MB\n"
     ]
    }
   ],
   "source": [
    "# get relevant columns from datasets\n",
    "data = steam_data[[\"type\", \"name\", \"steam_appid\", \"controller_support\", \"dlc\", \"short_description\", \"demos\", \"platforms\", \"movies\", \"achievements\", \"release_date\", \"is_free\", \"genres\"]]\n",
    "spy_data = steamspy_data[[\"appid\", \"developer\", \"publisher\", \"positive\", \"negative\", \"owners\", \"average_forever\", \"median_forever\", \"initialprice\", \"languages\", \"tags\"]]\n",
    "\n",
    "spy_data = spy_data.rename(columns={\"appid\":\"steam_appid\"})\n",
    "# merge datasets based on steam appid\n",
    "data = data.merge(spy_data, how = \"inner\", on = \"steam_appid\")\n",
    "\n",
    "# drop rows which are not games or with no name, duplicates (repeated steam appid)\n",
    "data = data.dropna(subset = [\"type\", \"name\"]).drop_duplicates(subset = [\"steam_appid\"])\n",
    "data = data.drop([\"type\"], axis = 1)\n",
    "# drop rows of games that have been deleted\n",
    "data = data[data[\"name\"] != \"none\"]\n",
    "data.info()"
   ]
  },
  {
   "cell_type": "code",
   "execution_count": 321,
   "id": "c06d419b",
   "metadata": {},
   "outputs": [],
   "source": [
    "# drop rows without english language\n",
    "data = data.dropna(subset = [\"languages\"])\n",
    "data = data[data[\"languages\"].str.contains(\"English\")]"
   ]
  },
  {
   "cell_type": "code",
   "execution_count": 322,
   "id": "8420fcea",
   "metadata": {},
   "outputs": [],
   "source": [
    "# filling null values\n",
    "variables = [\"controller_support\", \"dlc\", \"demos\", \"movies\"]\n",
    "\n",
    "# 1 for exists, 0 for does not exist\n",
    "for var in variables:\n",
    "    data[var] = np.where(data[var].isnull(), 0, 1)"
   ]
  },
  {
   "cell_type": "code",
   "execution_count": 323,
   "id": "32573fbf",
   "metadata": {
    "scrolled": true
   },
   "outputs": [
    {
     "name": "stdout",
     "output_type": "stream",
     "text": [
      "Number of free games: 2715\n",
      "Number of games without price: 3483\n"
     ]
    }
   ],
   "source": [
    "# cleaning price data\n",
    "\n",
    "print(\"Number of free games:\", data[data[\"is_free\"]].shape[0])\n",
    "print(\"Number of games without price:\", data[data[\"initialprice\"] == 0].shape[0])\n",
    "\n",
    "# drop games which are not free but still have no price data\n",
    "data = data.drop(data[(data[\"is_free\"] == 0) & (data[\"initialprice\"] == 0)].index)\n",
    "data = data.drop([\"is_free\"], axis = 1)\n",
    "data[\"initialprice\"] = data[\"initialprice\"] / 100"
   ]
  },
  {
   "cell_type": "code",
   "execution_count": 324,
   "id": "f48213eb",
   "metadata": {
    "scrolled": true
   },
   "outputs": [],
   "source": [
    "# cleaning platforms data\n",
    "\n",
    "def get_platforms(cell):\n",
    "    # evaluate data stored as string as dictionary using ast.literal_eval\n",
    "    platforms = literal_eval(cell)\n",
    "    # generate comma separated list of supported platforms if platform is True\n",
    "    return ', '.join(platform for platform in platforms.keys() if platforms[platform])\n",
    "\n",
    "data[\"platforms\"] = data[\"platforms\"].copy().apply(get_platforms)"
   ]
  },
  {
   "cell_type": "code",
   "execution_count": 325,
   "id": "11dd1127",
   "metadata": {},
   "outputs": [],
   "source": [
    "# cleaning achievement data\n",
    "\n",
    "def get_achievements(cell):\n",
    "    if cell is not np.nan:\n",
    "        achievements = literal_eval(cell)\n",
    "        return achievements[\"total\"]\n",
    "    else:\n",
    "        return 0\n",
    "\n",
    "data[\"achievements\"] = data[\"achievements\"].copy().apply(get_achievements)"
   ]
  },
  {
   "cell_type": "code",
   "execution_count": 326,
   "id": "8e322f32",
   "metadata": {},
   "outputs": [],
   "source": [
    "# cleaning release date data\n",
    "\n",
    "def get_release_date(cell):\n",
    "    release_date = literal_eval(cell)\n",
    "    if release_date[\"coming_soon\"]:\n",
    "        return np.nan\n",
    "    elif release_date[\"date\"] == '':\n",
    "        return np.nan\n",
    "    else: \n",
    "        return release_date[\"date\"]\n",
    "\n",
    "data[\"release_date\"] = data[\"release_date\"].copy().apply(get_release_date)\n",
    "\n",
    "# drop unreleased games or games with no date\n",
    "data = data.dropna(subset = [\"release_date\"])"
   ]
  },
  {
   "cell_type": "code",
   "execution_count": 327,
   "id": "661ca7d3",
   "metadata": {},
   "outputs": [],
   "source": [
    "import re\n",
    "\n",
    "# convert release date to date time format\n",
    "def format_date(cell):\n",
    "    if re.search(r'[\\d]{1,2} [A-Za-z]{3}, [\\d]{4}', cell):\n",
    "        # day mon, year => day mon year\n",
    "        return cell.replace(',', '')\n",
    "    elif re.search(r'[A-Za-z]{3} [\\d]{4}', cell):\n",
    "        # add 1st day of month if only month, year is given\n",
    "        return '1 ' + cell\n",
    "\n",
    "data[\"release_date\"] = pd.to_datetime(data[\"release_date\"].apply(format_date), format = \"%d %b %Y\", errors = \"raise\")"
   ]
  },
  {
   "cell_type": "code",
   "execution_count": 328,
   "id": "5c283fa5",
   "metadata": {},
   "outputs": [],
   "source": [
    "# cleaning tags data\n",
    "\n",
    "def get_tags(cell):\n",
    "    if cell == '[]':\n",
    "        return np.nan\n",
    "    else:\n",
    "        tags_dict = literal_eval(cell)\n",
    "        for tag in tags_dict.keys():\n",
    "            tags = ', '.join(tags_dict)\n",
    "        return tags\n",
    "\n",
    "data[\"tags\"] = data[\"tags\"].copy().apply(get_tags)"
   ]
  },
  {
   "cell_type": "code",
   "execution_count": 329,
   "id": "42181866",
   "metadata": {},
   "outputs": [],
   "source": [
    "# clean genres data\n",
    "\n",
    "def get_genres(cell):\n",
    "    if cell is not np.nan:\n",
    "        genres_dictlist = literal_eval(cell)\n",
    "        genres_list = []\n",
    "        for genres_dict in genres_dictlist:\n",
    "            genres_list.append(genres_dict[\"description\"])\n",
    "        for genre in genres_list:\n",
    "            genres = ', '.join(genres_list)\n",
    "        return genres\n",
    "    else:\n",
    "        return np.nan\n",
    "    \n",
    "data[\"genres\"] = data[\"genres\"].copy().apply(get_genres)"
   ]
  },
  {
   "cell_type": "code",
   "execution_count": 330,
   "id": "ff97062f",
   "metadata": {},
   "outputs": [],
   "source": [
    "# drop games with no developer data\n",
    "data = data.dropna(subset = [\"developer\"])\n",
    "\n",
    "# fill in missing publisher with developer name (self-published games?)\n",
    "for i in data[data[\"publisher\"].isnull()].index:\n",
    "    data.loc[i, \"publisher\"] = data[\"developer\"][i]"
   ]
  },
  {
   "cell_type": "code",
   "execution_count": 331,
   "id": "67263837",
   "metadata": {},
   "outputs": [],
   "source": [
    "# add column for total number of positive + negative recommendations\n",
    "data.insert(loc = 16, column = \"recommendations\", value = data[\"positive\"] + data[\"negative\"])"
   ]
  },
  {
   "cell_type": "code",
   "execution_count": 332,
   "id": "7c2dfa91",
   "metadata": {},
   "outputs": [
    {
     "data": {
      "text/plain": [
       "{'Accounting',\n",
       " 'Action',\n",
       " 'Adventure',\n",
       " 'Animation & Modeling',\n",
       " 'Audio Production',\n",
       " 'Casual',\n",
       " 'Design & Illustration',\n",
       " 'Documentary',\n",
       " 'Early Access',\n",
       " 'Education',\n",
       " 'Free to Play',\n",
       " 'Game Development',\n",
       " 'Gore',\n",
       " 'Indie',\n",
       " 'Massively Multiplayer',\n",
       " 'Nudity',\n",
       " 'Photo Editing',\n",
       " 'RPG',\n",
       " 'Racing',\n",
       " 'Sexual Content',\n",
       " 'Simulation',\n",
       " 'Software Training',\n",
       " 'Sports',\n",
       " 'Strategy',\n",
       " 'Tutorial',\n",
       " 'Utilities',\n",
       " 'Video Production',\n",
       " 'Violent',\n",
       " 'Web Publishing'}"
      ]
     },
     "execution_count": 332,
     "metadata": {},
     "output_type": "execute_result"
    }
   ],
   "source": [
    "# TO OPTIMIZE: iterating through dataframe :')\n",
    "# get unique official steam genres\n",
    "data = data.reset_index(drop = True)\n",
    "steam_genres = set()\n",
    "for i in range(data.shape[0]):\n",
    "    if data[\"genres\"][i] is np.nan:\n",
    "        continue\n",
    "    all_genres = data[\"genres\"][i].split(\", \")\n",
    "    for steam_genre in all_genres:\n",
    "        steam_genres.add(steam_genre)\n",
    "steam_genres"
   ]
  },
  {
   "cell_type": "code",
   "execution_count": 333,
   "id": "b23a8e03",
   "metadata": {},
   "outputs": [],
   "source": [
    "# remove very very dirty data\n",
    "data = data[(data[\"genres\"].str.contains(\"Nudity\") == False) & (data[\"genres\"].str.contains(\"Sexual Content\") == False) & (data[\"tags\"].str.contains(\"Nudity\") == False) & (data[\"tags\"].str.contains(\"Sexual Content\") == False)]"
   ]
  },
  {
   "cell_type": "code",
   "execution_count": 334,
   "id": "aef38250",
   "metadata": {},
   "outputs": [],
   "source": [
    "# drop games without genres data \n",
    "data = data.dropna(subset = [\"genres\"])\n",
    "data = data.reset_index(drop = True)"
   ]
  },
  {
   "cell_type": "code",
   "execution_count": 335,
   "id": "c57a9d34",
   "metadata": {
    "scrolled": false
   },
   "outputs": [],
   "source": [
    "# TO OPTIMIZE\n",
    "\n",
    "# remove steam genres from tags, tags=>additional tags\n",
    "for i in range(data.shape[0]):\n",
    "    if data[\"tags\"][i] is not np.nan:\n",
    "        non_steam_tags = list(set(data[\"tags\"][i].split(sep = ', ')) - set(steam_genres))\n",
    "        if non_steam_tags:\n",
    "            data.loc[i, \"tags\"] = ', '.join(non_steam_tags)\n",
    "        else:\n",
    "            data.loc[i, \"tags\"] = np.nan\n",
    "data.rename(columns = {\"tags\" : \"additional_tags\"}, inplace = True)"
   ]
  },
  {
   "cell_type": "code",
   "execution_count": 336,
   "id": "cb6a1285",
   "metadata": {},
   "outputs": [],
   "source": [
    "# use wilson score as an a better estimate of positive:negative rating\n",
    "# Wilson Confidence Interval considers binomial distribution for score calculation\n",
    "def wilson_score(positive, negative, z):\n",
    "    n = positive + negative\n",
    "\n",
    "    if n == 0:\n",
    "        return 0\n",
    "\n",
    "    p = float(positive) / n\n",
    "\n",
    "    left = p + 1/(2*n)*z*z\n",
    "    right = z*sqrt(p*(1-p)/n + z*z/(4*n*n))\n",
    "    under = 1+1/n*z*z\n",
    "\n",
    "    return (left - right) / under\n",
    "\n",
    "z = 1.96 # 95% confidence interval => z-score = 1.96\n",
    "data[\"rating\"] = data.apply(lambda row: round(wilson_score(row.positive, row.negative, 1.96)*100, 1), axis = 1)"
   ]
  },
  {
   "cell_type": "code",
   "execution_count": 337,
   "id": "1273a925",
   "metadata": {
    "scrolled": true
   },
   "outputs": [],
   "source": [
    "# drop rows with no ratings\n",
    "data = data[data[\"recommendations\"] != 0]\n",
    "data = data.drop([\"positive\", \"negative\", \"recommendations\"], axis = 1)\n",
    "data = data.reset_index(drop = True)"
   ]
  },
  {
   "cell_type": "code",
   "execution_count": 342,
   "id": "6bd8da1a",
   "metadata": {
    "scrolled": true
   },
   "outputs": [
    {
     "name": "stdout",
     "output_type": "stream",
     "text": [
      "<class 'pandas.core.frame.DataFrame'>\n",
      "RangeIndex: 26040 entries, 0 to 26039\n",
      "Data columns (total 20 columns):\n",
      " #   Column              Non-Null Count  Dtype         \n",
      "---  ------              --------------  -----         \n",
      " 0   name                26040 non-null  object        \n",
      " 1   steam_appid         26040 non-null  int64         \n",
      " 2   controller_support  26040 non-null  int32         \n",
      " 3   dlc                 26040 non-null  int32         \n",
      " 4   short_description   26026 non-null  object        \n",
      " 5   demos               26040 non-null  int32         \n",
      " 6   platforms           26040 non-null  object        \n",
      " 7   movies              26040 non-null  int32         \n",
      " 8   achievements        26040 non-null  int64         \n",
      " 9   release_date        26039 non-null  datetime64[ns]\n",
      " 10  genres              26040 non-null  object        \n",
      " 11  developer           26040 non-null  object        \n",
      " 12  publisher           26040 non-null  object        \n",
      " 13  owners              26040 non-null  object        \n",
      " 14  average_forever     26040 non-null  int64         \n",
      " 15  median_forever      26040 non-null  int64         \n",
      " 16  initialprice        26040 non-null  float64       \n",
      " 17  languages           26040 non-null  object        \n",
      " 18  additional_tags     19991 non-null  object        \n",
      " 19  rating              26040 non-null  float64       \n",
      "dtypes: datetime64[ns](1), float64(2), int32(4), int64(4), object(9)\n",
      "memory usage: 3.6+ MB\n"
     ]
    }
   ],
   "source": [
    "data.info()"
   ]
  },
  {
   "cell_type": "code",
   "execution_count": 343,
   "id": "553633b4",
   "metadata": {},
   "outputs": [],
   "source": [
    "# export clean dataset\n",
    "data.to_csv(\"steamdata_clean.csv\", index = False)"
   ]
  },
  {
   "cell_type": "code",
   "execution_count": null,
   "id": "b8f0fe48",
   "metadata": {},
   "outputs": [],
   "source": []
  }
 ],
 "metadata": {
  "kernelspec": {
   "display_name": "Python 3 (ipykernel)",
   "language": "python",
   "name": "python3"
  },
  "language_info": {
   "codemirror_mode": {
    "name": "ipython",
    "version": 3
   },
   "file_extension": ".py",
   "mimetype": "text/x-python",
   "name": "python",
   "nbconvert_exporter": "python",
   "pygments_lexer": "ipython3",
   "version": "3.9.7"
  }
 },
 "nbformat": 4,
 "nbformat_minor": 5
}
