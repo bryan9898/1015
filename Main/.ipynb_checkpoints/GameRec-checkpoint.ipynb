{
 "cells": [
  {
   "cell_type": "markdown",
   "metadata": {},
   "source": [
    "### Game Recommendation System"
   ]
  },
  {
   "cell_type": "markdown",
   "metadata": {},
   "source": [
    "##### Content Page"
   ]
  },
  {
   "cell_type": "code",
   "execution_count": 67,
   "metadata": {},
   "outputs": [],
   "source": [
    "import mysql.connector as mysql #pip install mysql.connector \n",
    "import numpy as np\n",
    "import pandas as pd\n",
    "import seaborn as sb\n",
    "import matplotlib.pyplot as plt # we only need pyplot\n",
    "import requests\n",
    "import json\n",
    "import warnings\n",
    "warnings.filterwarnings('ignore')\n",
    "\n",
    "from sklearn.metrics import confusion_matrix\n",
    "from sklearn.model_selection import train_test_split\n",
    "from sklearn.tree import DecisionTreeClassifier\n",
    "from sklearn.tree import plot_tree\n",
    "from imblearn.over_sampling import SMOTE , ADASYN # for imbalanced data\n",
    "from imblearn.combine import SMOTEENN \n",
    "from imblearn.pipeline import make_pipeline\n",
    "import time\n",
    "\n",
    "from sklearn.feature_extraction.text import TfidfVectorizer\n",
    "from sklearn.metrics.pairwise import linear_kernel\n",
    "from sklearn.feature_extraction.text import CountVectorizer\n",
    "from sklearn.metrics.pairwise import cosine_similarity"
   ]
  },
  {
   "cell_type": "markdown",
   "metadata": {},
   "source": [
    "Content-based recommenders\n",
    "\n",
    "recommending based on similarity score based on game plot/ description , developers, related genres,platforms"
   ]
  },
  {
   "cell_type": "code",
   "execution_count": 68,
   "metadata": {},
   "outputs": [],
   "source": [
    "#Get dataset\n",
    "gamedata = pd.read_csv(\"../SteamUserData/steamdata_cleanWithHIT.csv\")\n",
    "\n",
    "def clean_data(x):\n",
    "    if isinstance(x, list):\n",
    "        return [str.lower(i.replace(\" \", \"\")) for i in x]\n",
    "    else:\n",
    "        if isinstance(x, str):\n",
    "            return str.lower(x.replace(\" \", \"\"))\n",
    "        else:\n",
    "            return ''\n",
    "\n",
    "gamedata['additional_tags'] = gamedata['additional_tags'].apply(clean_data)\n",
    "\n",
    "def join_tgt(x):\n",
    "    return ''.join(str.lower(x['genres'])) + ' ' + ''.join(str.lower(x['developer'])) + ' ' + x['platforms'] + ' ' + ''.join(x['additional_tags'])\n",
    "\n",
    "gamedata['joined'] = gamedata.apply(join_tgt, axis=1)\n"
   ]
  },
  {
   "cell_type": "markdown",
   "metadata": {},
   "source": [
    "We will use cosine similarity to calculate the score for the similarity of the games\n"
   ]
  },
  {
   "cell_type": "code",
   "execution_count": 56,
   "metadata": {
    "tags": []
   },
   "outputs": [],
   "source": [
    "#Remove all english stop words such as 'the', 'a'\n",
    "count = CountVectorizer(stop_words='english')\n",
    "\n",
    "#fitting and transforming the data\n",
    "count_matrix = count.fit_transform(gamedata['joined'])\n",
    "\n",
    "## Compute the cosine similarity matrix\n",
    "cosine_sim2 = cosine_similarity(count_matrix, count_matrix)\n",
    "\n",
    "metadata = gamedata.reset_index()\n",
    "#reverse map of indices and movie titles\n",
    "indices = pd.Series(metadata.index, index=metadata['name'])"
   ]
  },
  {
   "cell_type": "code",
   "execution_count": 134,
   "metadata": {},
   "outputs": [
    {
     "name": "stdout",
     "output_type": "stream",
     "text": [
      "Game Recommendation : \n",
      "Counter-Strike: Source | Score : 0.7391304347826088\n",
      "Counter-Strike: Condition Zero | Score : 0.6956521739130436\n",
      "Day of Defeat | Score : 0.6384423980690613\n",
      "Day of Defeat: Source | Score : 0.6255432421712246\n",
      "Team Fortress Classic | Score : 0.6091095901015049\n",
      "Counter-Strike: Global Offensive | Score : 0.5807632069125023\n",
      "Deathmatch Classic | Score : 0.5783149319662403\n",
      "Half-Life Deathmatch: Source | Score : 0.5783149319662403\n",
      "Eradicator | Score : 0.5658251521157383\n",
      "Red Orchestra: Ostfront 41-45 | Score : 0.5595028849441883\n"
     ]
    }
   ],
   "source": [
    "def get_recommendations(game, cosine_sim):\n",
    "    # Get the index of the movie that matches the title\n",
    "    idx = indices[game]\n",
    "\n",
    "    # Get the pairwsie similarity scores of all games with that game\n",
    "    sim_scores = list(enumerate(cosine_sim[idx]))\n",
    "\n",
    "    # Sort the games based on the similarity scores\n",
    "    sim_scores = sorted(sim_scores, key=lambda x: x[1], reverse=True)\n",
    "\n",
    "    # Get the scores of the 10 most similar games\n",
    "    sim_scores = sim_scores[1:11]\n",
    "    \n",
    "    game_indices = [i[0] for i in sim_scores]\n",
    "    scores = [i[1] for i in sim_scores]\n",
    "    scores = pd.DataFrame(sim_scores, columns=list('ab'))\n",
    "    counter = 0\n",
    "    # Return the top 10 most similar games\n",
    "    print(\"Games that you might like (Recommendation) : \")\n",
    "    for x in gamedata['name'].iloc[game_indices]:\n",
    "        print(x + \" | Score : \" + str(scores['b'][counter]))\n",
    "        counter +=1\n",
    "    \n",
    "    return None;\n",
    "\n",
    "#get_recommendations('Counter-Strike', cosine_sim2)\n",
    "\n",
    "Fav_Games = input(\"Does your game support controllers? (1) for yes , (0) for no : \")\n",
    "dlc = input(\"Does your game support DLC? (1) for yes , (0) for no : \")\n",
    "demo = input(\"Does your game support Demos? (1) for yes , (0) for no : \")\n",
    "platforms = input(\"What platforms does your game support? choose which platforms (windows mac linux) eg. 110/010/001 : \")\n",
    "movies = input(\"Does your game support movies? (1) for yes , (0) for no : \")\n",
    "achievements = input(\"Does your game support achievements? (1) for yes , (0) for no : \")\n",
    "is_multiplayer = input(\"Does your game support multiplayer? (1) for yes , (0) for no : \")\n"
   ]
  }
 ],
 "metadata": {
  "interpreter": {
   "hash": "80687efc49e28853c7a0a8ad1db07792dbe2ed0c9d06fdd8b115f27435852c0a"
  },
  "kernelspec": {
   "display_name": "Python 3 (ipykernel)",
   "language": "python",
   "name": "python3"
  },
  "language_info": {
   "codemirror_mode": {
    "name": "ipython",
    "version": 3
   },
   "file_extension": ".py",
   "mimetype": "text/x-python",
   "name": "python",
   "nbconvert_exporter": "python",
   "pygments_lexer": "ipython3",
   "version": "3.10.2"
  }
 },
 "nbformat": 4,
 "nbformat_minor": 4
}
