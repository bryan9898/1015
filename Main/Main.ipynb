{
 "cells": [
  {
   "cell_type": "markdown",
   "metadata": {},
   "source": [
    "### Game Creation Prediction System"
   ]
  },
  {
   "cell_type": "markdown",
   "metadata": {},
   "source": [
    "##### Content Page"
   ]
  },
  {
   "cell_type": "code",
   "execution_count": 165,
   "metadata": {},
   "outputs": [],
   "source": [
    "import mysql.connector as mysql #pip install mysql.connector \n",
    "import numpy as np\n",
    "import pandas as pd\n",
    "import seaborn as sb\n",
    "import matplotlib.pyplot as plt # we only need pyplot\n",
    "import requests\n",
    "import json\n",
    "import warnings\n",
    "warnings.filterwarnings('ignore')\n",
    "\n",
    "import time\n"
   ]
  },
  {
   "cell_type": "markdown",
   "metadata": {},
   "source": [
    "### Main Question : How can game developers safely and accurately use user’s behaviour to predict the next big game?\n",
    "\n",
    "##### To answer this question, we need to break it down into parts : \n",
    "##### 1) Does friends playing the game affect whether someone will buy a game?\n",
    "##### 2) Does Multiplayer games cost more than single player games?\n",
    "##### 3) Are multiplayer games more popular than single player games?\n",
    "##### 4) What is the most popular genre? (think we did this alrdy)\n",
    "##### 5) Does age requirements affect game's popularity?\n",
    "##### 6) Does common words in descripition affect game's popularity?\n",
    "##### 7) Does having achievements in game affect playtime, rating , popularity?\n",
    "##### 8) What is a user's most played genre and how likely are they to play other game genres?\n",
    "\n"
   ]
  },
  {
   "cell_type": "markdown",
   "metadata": {},
   "source": [
    "### Data Cleaning\n",
    "\n",
    "##### Firstly , let us query our database for the list of user accounts, because this sql database has 100m our data, it would be too expensive to constantly querying it for data, so we shall export it to a csv"
   ]
  },
  {
   "cell_type": "code",
   "execution_count": null,
   "metadata": {},
   "outputs": [],
   "source": [
    "#Database Connection (dont run this again , too costly!!)\n",
    "db_connection = mysql.connect(user=\"root\", password=\"jajasauce\", host=\"34.143.214.112\", database=\"steam\")\n",
    "cur = db_connection.cursor()\n",
    "\n",
    "cur.execute(\"SELECT steamid,personaname FROM Player_Summaries WHERE personastate != 0 LIMIT 100000;\") # We shall only limit it to 100,000 because of the large dataset\n",
    "myresult = cur.fetchall()\n",
    "df = pd.DataFrame(myresult,columns=['steamid','personaname'])\n",
    "df.to_csv('playerinfo.csv', index=False) #We exported it to a csv file"
   ]
  },
  {
   "cell_type": "markdown",
   "metadata": {},
   "source": [
    "##### Next, we have to query steam's API to get the list of games the users has played. This is because our dataset only has userID and not the list of games they played\n",
    "(https://developer.valvesoftware.com/wiki/Steam_Web_API)"
   ]
  },
  {
   "cell_type": "code",
   "execution_count": null,
   "metadata": {},
   "outputs": [],
   "source": [
    "# Using API \n",
    "API = \"4141070D32E9CF793B1D9BC8A25C5950\""
   ]
  },
  {
   "cell_type": "code",
   "execution_count": null,
   "metadata": {},
   "outputs": [],
   "source": [
    "steam_data = pd.read_csv(\"SteamUserData/playerInfo.csv\",nrows=20000) #We found out that 100,000 data is too much because each user could have thousands of games, and with just 20,000 users, there is already 500,000 data\n",
    "\n",
    "#Getting list of User game library data\n",
    "data1 = {'steamid':[],'gamesid':[],'playtime_forever':[]}\n",
    "dfGames = pd.DataFrame(data1)\n",
    "\n",
    "for x in steam_data['steamid']:\n",
    "    response = requests.get(\"http://api.steampowered.com/IPlayerService/GetOwnedGames/v0001/?key=\"+API+\"&steamid=\"+str(x)+\"&format=json\")\n",
    "    reply = response.json(); \n",
    "    if(reply['response'] == {}):\n",
    "        continue\n",
    "    else:\n",
    "        for y in reply['response']['games']: # save it to data frame instead\n",
    "            new_row = {'steamid':str(x),'gamesid':y['appid'],'playtime_forever':y['playtime_forever']}\n",
    "            dfGames = dfGames.append(new_row, ignore_index=True)\n",
    "          \n",
    "    \n",
    "dfGames.to_csv('playerGames.csv', index=False)   \n"
   ]
  },
  {
   "cell_type": "markdown",
   "metadata": {},
   "source": [
    "##### Now that we have the list of games the users played lets merge both data together with another dataset of game's infomation (../SteamUserData/App_ID_Info.cs)\n",
    "##### This is so that we can get the infomation of the games they played and merge it using gameid"
   ]
  },
  {
   "cell_type": "code",
   "execution_count": null,
   "metadata": {},
   "outputs": [],
   "source": [
    "#Firstly lets get the list of players and the games they play\n",
    "#Lets clean the data by removing games which is free because they have other ways of earning money (DLCs). If App types are not games, we want to remove it as well\n",
    "User_Data = pd.read_csv(\"../SteamUserData/playerGames.csv\")\n",
    "App_Info = pd.read_csv(\"../SteamUserData/App_ID_Info.csv\")\n",
    "\n",
    "Merged = pd.merge(User_Data,App_Info[['gamesid','appType','price','rating','is_Multiplayer']],on=[\"gamesid\"])\n",
    "\n",
    "#Now lets drop those columns with prices = 0.00 and appType not equal to games\n",
    "Merged = Merged.drop(Merged[(Merged.price == 0) | (Merged.appType != \"game\")].index)\n",
    "#There is now 350k of data instead of 500k of data\n",
    "#Let us futher merge the table with genres to do EDA\n",
    "#genres = pd.read_csv(\"../SteamUserData/Game_Genres.csv\")\n",
    "#UserGame = pd.merge(Merged,genres,on=[\"gamesid\"]) # Game has multiple genres"
   ]
  },
  {
   "cell_type": "markdown",
   "metadata": {},
   "source": [
    "#### 1) Does friends playing the game affect whether someone will buy a game?\n",
    "\n",
    "\n",
    "###### First we must call API to check the list of friends a player has and whether they own that same game"
   ]
  },
  {
   "cell_type": "code",
   "execution_count": null,
   "metadata": {},
   "outputs": [],
   "source": [
    "#Get the list of friends for each user , this has to be done by calling APIs\n",
    "#Using friend list , query whether they got the same game\n",
    "counter = 0; #limited 100,000 API query a day\n",
    "Merged = pd.read_csv(\"PlayerGames_Cleaned.csv\")\n",
    "for x in range(len(Merged['steamid'])):\n",
    "    response = requests.get(\"https://api.steampowered.com/ISteamUser/GetFriendList/v0001/?key=\"+API+\"&steamid=\"+str(Merged['steamid'][x])+\"&relationship=friend\")\n",
    "    reply = response.json();\n",
    "    if(reply == {}):\n",
    "        continue\n",
    "    else:\n",
    "        friendHave = 0;\n",
    "        for y in reply['friendslist']['friends']: # save it to data frame instead\n",
    "            if(friendHave == 1):\n",
    "                break;\n",
    "            friendResponse = requests.get(\"http://api.steampowered.com/IPlayerService/GetOwnedGames/v0001/?key=\"+API+\"&steamid=\"+str(y['steamid'])+\"&format=json\")\n",
    "            friendReply = friendResponse.json();\n",
    "            counter += 1;\n",
    "            if(friendReply['response'] == {}):\n",
    "                continue;\n",
    "            else:\n",
    "                if(int(friendReply['response']['game_count']) == 0):\n",
    "                    continue;\n",
    "                else:\n",
    "                    for friendGame in friendReply['response']['games']:\n",
    "                        if(friendGame['appid'] == Merged['gamesid'][x]):\n",
    "                            friendHave = 1;\n",
    "                            break;\n",
    "                                         \n",
    "    Merged['FriendHasGame'][x] = friendHave;\n",
    "    Merged.to_csv('PlayerGames_Cleaned.csv', index=False) \n",
    "\n",
    "Merged.to_csv('PlayerGames_Cleaned.csv', index=False) "
   ]
  },
  {
   "cell_type": "code",
   "execution_count": null,
   "metadata": {},
   "outputs": [
    {
     "data": {
      "text/plain": [
       "<AxesSubplot:>"
      ]
     },
     "execution_count": 2,
     "metadata": {},
     "output_type": "execute_result"
    },
    {
     "data": {
      "image/png": "[encoded data removed]",
      "text/plain": [
       "<Figure size 432x288 with 1 Axes>"
      ]
     },
     "metadata": {
      "needs_background": "light"
     },
     "output_type": "display_data"
    }
   ],
   "source": [
    "Merged = pd.read_csv(\"../SteamUserData/PlayerGames_Cleaned.csv\")\n",
    "\n",
    "\n",
    "Merged['FriendHasGame'].value_counts().plot(kind='barh')"
   ]
  },
  {
   "cell_type": "markdown",
   "metadata": {},
   "source": [
    "1) We can see that when a friend has the game, they might influence the user to buy and play the game as well\n",
    "\n",
    "#### Now let us analyze the 2nd question \n",
    "#### 2) Does Multiplayer games cost more than single player games?"
   ]
  },
  {
   "cell_type": "code",
   "execution_count": null,
   "metadata": {},
   "outputs": [
    {
     "data": {
      "text/plain": [
       "<AxesSubplot:xlabel='price', ylabel='is_Multiplayer'>"
      ]
     },
     "execution_count": 39,
     "metadata": {},
     "output_type": "execute_result"
    },
    {
     "data": {
      "image/png": "[encoded data removed]",
      "text/plain": [
       "<Figure size 720x720 with 1 Axes>"
      ]
     },
     "metadata": {
      "needs_background": "light"
     },
     "output_type": "display_data"
    }
   ],
   "source": [
    "cost = pd.read_csv(\"../SteamUserData/App_ID_Info.csv\")\n",
    "#We want to remove appType that are not games.\n",
    "\n",
    "costCleaned = cost[cost['appType']=='game'] #Clean data to make it only games\n",
    "costCleaned = costCleaned[cost['price'] > 0] # Remove games that cost $0 because they have other ways of earning money\n",
    "\n",
    "#now that we have all the list of games, lets do some analysis on it\n",
    "plt.figure(figsize=(10, 10))\n",
    "sb.boxplot(data=costCleaned,y=\"is_Multiplayer\",x=\"price\" ,orient = \"h\")"
   ]
  },
  {
   "cell_type": "markdown",
   "metadata": {},
   "source": [
    "Now let us remove the outliers so we can get a clearer picture"
   ]
  },
  {
   "cell_type": "code",
   "execution_count": null,
   "metadata": {},
   "outputs": [
    {
     "data": {
      "text/plain": [
       "<AxesSubplot:xlabel='is_Multiplayer', ylabel='price'>"
      ]
     },
     "execution_count": 40,
     "metadata": {},
     "output_type": "execute_result"
    },
    {
     "data": {
      "image/png": "[encoded data removed]",
      "text/plain": [
       "<Figure size 432x288 with 1 Axes>"
      ]
     },
     "metadata": {
      "needs_background": "light"
     },
     "output_type": "display_data"
    }
   ],
   "source": [
    "#Let us remove the outliers so we can get a clearer picture\n",
    "def remove_outlier(df_in, col_name):\n",
    "    q1 = df_in[col_name].quantile(0.25)\n",
    "    q3 = df_in[col_name].quantile(0.75)\n",
    "    iqr = q3-q1 #Interquartile range\n",
    "    fence_low  = q1-1.5*iqr\n",
    "    fence_high = q3+1.5*iqr\n",
    "    df_out = df_in.loc[(df_in[col_name] > fence_low) & (df_in[col_name] < fence_high)]\n",
    "    return df_out\n",
    "\n",
    "cost1= remove_outlier(costCleaned, \"price\")\n",
    "sb.boxplot(data=cost1,x=\"is_Multiplayer\",y=\"price\")"
   ]
  },
  {
   "cell_type": "markdown",
   "metadata": {},
   "source": [
    "2) We can see that those multiplayer games have a higher interqualite range and median than those non multiplayer games, which shows that multiplayer games, on average, tend to be on the pricer side than non-multiplaye. And therefore, affects the price of a game\n",
    "\n",
    "### 3) Are multiplayer games more popular than single player games?\n",
    "To answer this question, we need merge with another dataset that shows average user play time on a game , and more info on that game"
   ]
  },
  {
   "cell_type": "code",
   "execution_count": null,
   "metadata": {},
   "outputs": [
    {
     "data": {
      "text/html": [
       "<div>\n",
       "<style scoped>\n",
       "    .dataframe tbody tr th:only-of-type {\n",
       "        vertical-align: middle;\n",
       "    }\n",
       "\n",
       "    .dataframe tbody tr th {\n",
       "        vertical-align: top;\n",
       "    }\n",
       "\n",
       "    .dataframe thead th {\n",
       "        text-align: right;\n",
       "    }\n",
       "</style>\n",
       "<table border=\"1\" class=\"dataframe\">\n",
       "  <thead>\n",
       "    <tr style=\"text-align: right;\">\n",
       "      <th></th>\n",
       "      <th>gamesid</th>\n",
       "      <th>appName</th>\n",
       "      <th>appType</th>\n",
       "      <th>price</th>\n",
       "      <th>release_Date</th>\n",
       "      <th>rating</th>\n",
       "      <th>requiredAge</th>\n",
       "      <th>is_Multiplayer</th>\n",
       "      <th>steam_appid</th>\n",
       "      <th>average_forever</th>\n",
       "    </tr>\n",
       "  </thead>\n",
       "  <tbody>\n",
       "    <tr>\n",
       "      <th>0</th>\n",
       "      <td>10</td>\n",
       "      <td>Counter-Strike</td>\n",
       "      <td>game</td>\n",
       "      <td>9.99</td>\n",
       "      <td>2000-11-01 00:00:00</td>\n",
       "      <td>88</td>\n",
       "      <td>0</td>\n",
       "      <td>1</td>\n",
       "      <td>10</td>\n",
       "      <td>17612</td>\n",
       "    </tr>\n",
       "    <tr>\n",
       "      <th>1</th>\n",
       "      <td>20</td>\n",
       "      <td>Team Fortress Classic</td>\n",
       "      <td>game</td>\n",
       "      <td>4.99</td>\n",
       "      <td>1999-04-01 00:00:00</td>\n",
       "      <td>-1</td>\n",
       "      <td>0</td>\n",
       "      <td>1</td>\n",
       "      <td>20</td>\n",
       "      <td>277</td>\n",
       "    </tr>\n",
       "    <tr>\n",
       "      <th>2</th>\n",
       "      <td>30</td>\n",
       "      <td>Day of Defeat</td>\n",
       "      <td>game</td>\n",
       "      <td>4.99</td>\n",
       "      <td>2003-05-01 00:00:00</td>\n",
       "      <td>79</td>\n",
       "      <td>0</td>\n",
       "      <td>1</td>\n",
       "      <td>30</td>\n",
       "      <td>187</td>\n",
       "    </tr>\n",
       "    <tr>\n",
       "      <th>3</th>\n",
       "      <td>40</td>\n",
       "      <td>Deathmatch Classic</td>\n",
       "      <td>game</td>\n",
       "      <td>4.99</td>\n",
       "      <td>2001-06-01 00:00:00</td>\n",
       "      <td>-1</td>\n",
       "      <td>0</td>\n",
       "      <td>1</td>\n",
       "      <td>40</td>\n",
       "      <td>258</td>\n",
       "    </tr>\n",
       "    <tr>\n",
       "      <th>4</th>\n",
       "      <td>50</td>\n",
       "      <td>Half-Life: Opposing Force</td>\n",
       "      <td>game</td>\n",
       "      <td>4.99</td>\n",
       "      <td>1999-11-01 00:00:00</td>\n",
       "      <td>-1</td>\n",
       "      <td>0</td>\n",
       "      <td>1</td>\n",
       "      <td>50</td>\n",
       "      <td>624</td>\n",
       "    </tr>\n",
       "    <tr>\n",
       "      <th>...</th>\n",
       "      <td>...</td>\n",
       "      <td>...</td>\n",
       "      <td>...</td>\n",
       "      <td>...</td>\n",
       "      <td>...</td>\n",
       "      <td>...</td>\n",
       "      <td>...</td>\n",
       "      <td>...</td>\n",
       "      <td>...</td>\n",
       "      <td>...</td>\n",
       "    </tr>\n",
       "    <tr>\n",
       "      <th>7549</th>\n",
       "      <td>466890</td>\n",
       "      <td>Z.I.O.N.</td>\n",
       "      <td>game</td>\n",
       "      <td>4.99</td>\n",
       "      <td>2016-05-07 00:00:00</td>\n",
       "      <td>-1</td>\n",
       "      <td>0</td>\n",
       "      <td>0</td>\n",
       "      <td>466890</td>\n",
       "      <td>384</td>\n",
       "    </tr>\n",
       "    <tr>\n",
       "      <th>7550</th>\n",
       "      <td>466910</td>\n",
       "      <td>Worm.is: The Game</td>\n",
       "      <td>game</td>\n",
       "      <td>0.00</td>\n",
       "      <td>2016-05-04 00:00:00</td>\n",
       "      <td>-1</td>\n",
       "      <td>0</td>\n",
       "      <td>1</td>\n",
       "      <td>466910</td>\n",
       "      <td>68</td>\n",
       "    </tr>\n",
       "    <tr>\n",
       "      <th>7551</th>\n",
       "      <td>467000</td>\n",
       "      <td>Insincere</td>\n",
       "      <td>game</td>\n",
       "      <td>39.99</td>\n",
       "      <td>2016-05-12 00:00:00</td>\n",
       "      <td>-1</td>\n",
       "      <td>0</td>\n",
       "      <td>0</td>\n",
       "      <td>467000</td>\n",
       "      <td>257</td>\n",
       "    </tr>\n",
       "    <tr>\n",
       "      <th>7553</th>\n",
       "      <td>467310</td>\n",
       "      <td>Rogue Port - Red Nightmare</td>\n",
       "      <td>game</td>\n",
       "      <td>0.00</td>\n",
       "      <td>2016-05-12 00:00:00</td>\n",
       "      <td>-1</td>\n",
       "      <td>0</td>\n",
       "      <td>0</td>\n",
       "      <td>467310</td>\n",
       "      <td>295</td>\n",
       "    </tr>\n",
       "    <tr>\n",
       "      <th>7555</th>\n",
       "      <td>467370</td>\n",
       "      <td>Escape This</td>\n",
       "      <td>game</td>\n",
       "      <td>0.99</td>\n",
       "      <td>2016-05-04 00:00:00</td>\n",
       "      <td>-1</td>\n",
       "      <td>0</td>\n",
       "      <td>0</td>\n",
       "      <td>467370</td>\n",
       "      <td>215</td>\n",
       "    </tr>\n",
       "  </tbody>\n",
       "</table>\n",
       "<p>3366 rows × 10 columns</p>\n",
       "</div>"
      ],
      "text/plain": [
       "      gamesid                     appName appType  price         release_Date  \\\n",
       "0          10              Counter-Strike    game   9.99  2000-11-01 00:00:00   \n",
       "1          20       Team Fortress Classic    game   4.99  1999-04-01 00:00:00   \n",
       "2          30               Day of Defeat    game   4.99  2003-05-01 00:00:00   \n",
       "3          40          Deathmatch Classic    game   4.99  2001-06-01 00:00:00   \n",
       "4          50   Half-Life: Opposing Force    game   4.99  1999-11-01 00:00:00   \n",
       "...       ...                         ...     ...    ...                  ...   \n",
       "7549   466890                    Z.I.O.N.    game   4.99  2016-05-07 00:00:00   \n",
       "7550   466910           Worm.is: The Game    game   0.00  2016-05-04 00:00:00   \n",
       "7551   467000                   Insincere    game  39.99  2016-05-12 00:00:00   \n",
       "7553   467310  Rogue Port - Red Nightmare    game   0.00  2016-05-12 00:00:00   \n",
       "7555   467370                 Escape This    game   0.99  2016-05-04 00:00:00   \n",
       "\n",
       "      rating  requiredAge  is_Multiplayer  steam_appid  average_forever  \n",
       "0         88            0               1           10            17612  \n",
       "1         -1            0               1           20              277  \n",
       "2         79            0               1           30              187  \n",
       "3         -1            0               1           40              258  \n",
       "4         -1            0               1           50              624  \n",
       "...      ...          ...             ...          ...              ...  \n",
       "7549      -1            0               0       466890              384  \n",
       "7550      -1            0               1       466910               68  \n",
       "7551      -1            0               0       467000              257  \n",
       "7553      -1            0               0       467310              295  \n",
       "7555      -1            0               0       467370              215  \n",
       "\n",
       "[3366 rows x 10 columns]"
      ]
     },
     "execution_count": 126,
     "metadata": {},
     "output_type": "execute_result"
    }
   ],
   "source": [
    "gameData = pd.read_csv(\"../SteamUserData/App_ID_Info.csv\")\n",
    "gamePopularity = pd.read_csv(\"../steamdata/steamdata_clean.csv\")\n",
    "\n",
    "gameData =  pd.merge(gameData,gamePopularity[['steam_appid','average_forever']],left_on=[\"gamesid\"],right_on=[\"steam_appid\"])\n",
    "gameData = gameData.drop(gameData[(gameData.average_forever <= 0)].index) # remove data that cannot find average playtime\n",
    "gameData\n"
   ]
  },
  {
   "cell_type": "markdown",
   "metadata": {},
   "source": [
    "Now lets look at the top performing games with the highest amount of user's playtime."
   ]
  },
  {
   "cell_type": "code",
   "execution_count": null,
   "metadata": {},
   "outputs": [
    {
     "data": {
      "text/plain": [
       "<AxesSubplot:title={'center':'Top 10 Games by average play time'}, xlabel='appName'>"
      ]
     },
     "execution_count": 127,
     "metadata": {},
     "output_type": "execute_result"
    },
    {
     "data": {
      "image/png": "[encoded data removed]",
      "text/plain": [
       "<Figure size 432x288 with 1 Axes>"
      ]
     },
     "metadata": {
      "needs_background": "light"
     },
     "output_type": "display_data"
    }
   ],
   "source": [
    "#Let us normalise the data to make it easier to read\n",
    "df_max_scaled = gameData.copy()\n",
    "df_max_scaled = df_max_scaled.nlargest(n=10,columns=[\"average_forever\"])\n",
    "#df_max_scaled\n",
    "df_max_scaled[\"average_forever\"] = df_max_scaled[\"average_forever\"]  / df_max_scaled[\"average_forever\"].abs().max()\n",
    "    \n",
    "df_max_scaled.plot.bar(x = 'appName', y = 'average_forever', color = 'skyblue', title = 'Top 10 Games by average play time')\n"
   ]
  },
  {
   "cell_type": "code",
   "execution_count": null,
   "metadata": {},
   "outputs": [
    {
     "data": {
      "text/plain": [
       "1    6\n",
       "0    4\n",
       "Name: is_Multiplayer, dtype: int64"
      ]
     },
     "execution_count": 130,
     "metadata": {},
     "output_type": "execute_result"
    }
   ],
   "source": [
    "df_max_scaled['is_Multiplayer'].value_counts()"
   ]
  },
  {
   "cell_type": "markdown",
   "metadata": {},
   "source": [
    "We see that 6 out of 10 games in the top 10 games are multiplayer games, lets increase our datasize to get a clearer picture"
   ]
  },
  {
   "cell_type": "code",
   "execution_count": null,
   "metadata": {},
   "outputs": [
    {
     "data": {
      "text/plain": [
       "0    603\n",
       "1    397\n",
       "Name: is_Multiplayer, dtype: int64"
      ]
     },
     "execution_count": 134,
     "metadata": {},
     "output_type": "execute_result"
    }
   ],
   "source": [
    "df_max_scaled = gameData.copy()\n",
    "df_max_scaled = df_max_scaled.nlargest(n=100,columns=[\"average_forever\"])\n",
    "df_max_scaled['is_Multiplayer'].value_counts()\n",
    "df_max_scaled = gameData.copy()\n",
    "df_max_scaled = df_max_scaled.nlargest(n=1000,columns=[\"average_forever\"])\n",
    "df_max_scaled['is_Multiplayer'].value_counts()"
   ]
  },
  {
   "cell_type": "markdown",
   "metadata": {},
   "source": [
    "3. This is also quite true for a larger datasize. At the top 100 games and 1000 games based on all user's average play time, about 60% are multiplayer games and about 40% are single player games\n",
    "We concluded that there is a small higher percent of chance that popular games are multiplayer games based solely on highest average playtime.\n",
    "\n",
    "Now let us continue and take a look at the average whether there are more multiplayer games with higher average playtime or single player games with higher average playtime."
   ]
  },
  {
   "cell_type": "code",
   "execution_count": null,
   "metadata": {},
   "outputs": [
    {
     "data": {
      "text/plain": [
       "<AxesSubplot:xlabel='is_Multiplayer', ylabel='average_forever'>"
      ]
     },
     "execution_count": 135,
     "metadata": {},
     "output_type": "execute_result"
    },
    {
     "data": {
      "image/png": "[encoded data removed]",
      "text/plain": [
       "<Figure size 432x288 with 1 Axes>"
      ]
     },
     "metadata": {
      "needs_background": "light"
     },
     "output_type": "display_data"
    }
   ],
   "source": [
    "sb.boxplot(data=gameData,x=\"is_Multiplayer\",y=\"average_forever\")\n"
   ]
  },
  {
   "cell_type": "code",
   "execution_count": null,
   "metadata": {},
   "outputs": [
    {
     "data": {
      "text/plain": [
       "<AxesSubplot:xlabel='is_Multiplayer', ylabel='average_forever'>"
      ]
     },
     "execution_count": 136,
     "metadata": {},
     "output_type": "execute_result"
    },
    {
     "data": {
      "image/png": "[encoded data removed]",
      "text/plain": [
       "<Figure size 432x288 with 1 Axes>"
      ]
     },
     "metadata": {
      "needs_background": "light"
     },
     "output_type": "display_data"
    }
   ],
   "source": [
    "#Lets remove out outiers\n",
    "gameData= remove_outlier(gameData, \"average_forever\")\n",
    "sb.boxplot(data=gameData,x=\"is_Multiplayer\",y=\"average_forever\")\n"
   ]
  },
  {
   "cell_type": "markdown",
   "metadata": {},
   "source": [
    "3) We see that on average, there is not much difference between user's play time when the game is multiplayer or single player. \n",
    "\n",
    "So, to futher find a \"popularity of a game\", we need to see how many people bought the game. Now, lets look at how many people bought the game and whether multiplayer games has more people buying it or not.\n"
   ]
  },
  {
   "cell_type": "code",
   "execution_count": 174,
   "metadata": {},
   "outputs": [
    {
     "data": {
      "image/png": "[encoded data removed]",
      "text/plain": [
       "<Figure size 432x288 with 1 Axes>"
      ]
     },
     "metadata": {
      "needs_background": "light"
     },
     "output_type": "display_data"
    }
   ],
   "source": [
    "gameData = pd.read_csv(\"../SteamUserData/App_ID_Info.csv\")\n",
    "gamePopularity = pd.read_csv(\"../steamdata/steamdata_clean.csv\")\n",
    "\n",
    "gameData =  pd.merge(gameData,gamePopularity[['steam_appid','average_forever','owners']],left_on=[\"gamesid\"],right_on=[\"steam_appid\"])\n",
    "gameData = gameData.drop(gameData[(gameData.average_forever <= 0)].index) # remove data that cannot find average playtime\n",
    "gameDataMultiplayer1 = gameData.drop(gameData[(gameData.is_Multiplayer == 0)].index)\n",
    "\n",
    "\n",
    "#When game is multiplayer\n",
    "gameDataMultiplayer1['owners'].value_counts().plot(kind='barh')\n",
    "gameDataMultiplayer1['owners'].value_counts()\n",
    "\n",
    "#We shall map this caetegorical to a numercial data so that we can get a rough estimate of the number of players\n",
    "gameDataMultiplayer1['ownersNumerical'] = gameDataMultiplayer1['owners'].map({\n",
    "    \"200,000 .. 500,000\": 250000,\n",
    "    \"100,000 .. 200,000\": 150000,\n",
    "    \"500,000 .. 1,000,000\": 750000,\n",
    "    \"1,000,000 .. 2,000,000\": 150000,\n",
    "    \"50,000 .. 100,000\": 75000,\n",
    "    \"2,000,000 .. 5,000,000\": 3500000,\n",
    "    \"20,000 .. 50,000\": 35000,\n",
    "    \"0 .. 20,000\": 10000,\n",
    "    \"5,000,000 .. 10,000,000\": 7500000,\n",
    "    \"10,000,000 .. 20,000,000\": 1500000,\n",
    "    \"20,000,000 .. 50,000,000\": 35000000,\n",
    "    \"100,000,000 .. 200,000,000\": 150000000,\n",
    "    \"50,000,000 .. 100,000,000\": 75000000,\n",
    "})\n"
   ]
  },
  {
   "cell_type": "code",
   "execution_count": 183,
   "metadata": {},
   "outputs": [
    {
     "data": {
      "image/png": "[encoded data removed]",
      "text/plain": [
       "<Figure size 432x288 with 1 Axes>"
      ]
     },
     "metadata": {
      "needs_background": "light"
     },
     "output_type": "display_data"
    }
   ],
   "source": [
    "gameDataMultiplayer0 = gameData.drop(gameData[(gameData.is_Multiplayer == 1)].index)\n",
    "\n",
    "\n",
    "#When game is not multiplayer\n",
    "gameDataMultiplayer0['owners'].value_counts().plot(kind='barh')\n",
    "gameDataMultiplayer0['owners'].value_counts()\n",
    "#We shall map this caetegorical to a numercial data so that we can get a rough estimate of the number of players\n",
    "gameDataMultiplayer0['ownersNumerical'] = gameDataMultiplayer0['owners'].map({\n",
    "    \"200,000 .. 500,000\": 250000,\n",
    "    \"100,000 .. 200,000\": 150000,\n",
    "    \"500,000 .. 1,000,000\": 750000,\n",
    "    \"1,000,000 .. 2,000,000\": 150000,\n",
    "    \"50,000 .. 100,000\": 75000,\n",
    "    \"2,000,000 .. 5,000,000\": 3500000,\n",
    "    \"20,000 .. 50,000\": 35000,\n",
    "    \"0 .. 20,000\": 10000,\n",
    "    \"5,000,000 .. 10,000,000\": 7500000,\n",
    "    \"10,000,000 .. 20,000,000\": 1500000,\n",
    "    \"20,000,000 .. 50,000,000\": 35000000,\n",
    "    \"100,000,000 .. 200,000,000\": 150000000,\n",
    "    \"50,000,000 .. 100,000,000\": 75000000,\n",
    "})"
   ]
  },
  {
   "cell_type": "code",
   "execution_count": 188,
   "metadata": {},
   "outputs": [
    {
     "data": {
      "text/plain": [
       "1080420000"
      ]
     },
     "execution_count": 188,
     "metadata": {},
     "output_type": "execute_result"
    }
   ],
   "source": [
    "#Sum of the estimated total number of users buying multiplayer games\n",
    "gameDataMultiplayer1['ownersNumerical'].sum()"
   ]
  },
  {
   "cell_type": "code",
   "execution_count": 187,
   "metadata": {},
   "outputs": [
    {
     "data": {
      "text/plain": [
       "756235000"
      ]
     },
     "execution_count": 187,
     "metadata": {},
     "output_type": "execute_result"
    }
   ],
   "source": [
    "#Sum of the estimated total number of users buying single player games\n",
    "gameDataMultiplayer0['ownersNumerical'].sum()"
   ]
  },
  {
   "cell_type": "markdown",
   "metadata": {},
   "source": [
    "4. Based on our estimates, we see that more users buy multiplayer games as compared to single player games. However, if based on users play time, both multiplayer and single player does not have much difference(one 60% the other 40%)"
   ]
  },
  {
   "cell_type": "markdown",
   "metadata": {},
   "source": [
    "### 5) Does age requirements affect game's popularity?\n",
    "\n",
    "First we must see "
   ]
  },
  {
   "cell_type": "code",
   "execution_count": null,
   "metadata": {},
   "outputs": [],
   "source": []
  },
  {
   "cell_type": "markdown",
   "metadata": {},
   "source": [
    "Things that might affect cost prediction: \n",
    "1) Multiplayer games cost more than single player games\n",
    "2) More people will buy multiplayer games\n",
    "\n",
    "Things that affect whether a user will buy a game: \n",
    "1) When friends has the game \n"
   ]
  },
  {
   "cell_type": "markdown",
   "metadata": {},
   "source": []
  }
 ],
 "metadata": {
  "interpreter": {
   "hash": "80687efc49e28853c7a0a8ad1db07792dbe2ed0c9d06fdd8b115f27435852c0a"
  },
  "kernelspec": {
   "display_name": "Python 3.10.2 64-bit",
   "language": "python",
   "name": "python3"
  },
  "language_info": {
   "codemirror_mode": {
    "name": "ipython",
    "version": 3
   },
   "file_extension": ".py",
   "mimetype": "text/x-python",
   "name": "python",
   "nbconvert_exporter": "python",
   "pygments_lexer": "ipython3",
   "version": "3.10.2"
  },
  "orig_nbformat": 4
 },
 "nbformat": 4,
 "nbformat_minor": 2
}
